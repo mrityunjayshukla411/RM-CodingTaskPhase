{
 "cells": [
  {
   "cell_type": "code",
   "execution_count": 4,
   "metadata": {},
   "outputs": [],
   "source": [
    "import numpy as np\n",
    "import matplotlib.pyplot as plt"
   ]
  },
  {
   "cell_type": "code",
   "execution_count": 16,
   "metadata": {},
   "outputs": [
    {
     "name": "stdout",
     "output_type": "stream",
     "text": [
      "1294.9404197913782\n",
      "0.8088805957832138\n"
     ]
    },
    {
     "data": {
      "image/png": "[encoded data removed]",
      "text/plain": [
       "<Figure size 432x288 with 1 Axes>"
      ]
     },
     "metadata": {
      "needs_background": "light"
     },
     "output_type": "display_data"
    }
   ],
   "source": [
    "x = np.array([0, 1, 2, 3, 4, 5, 6, 7, 8, 9,100,121,313,232,11101,32312,54442])\n",
    "y = np.array([1, 3, 2, 5, 7, 8, 8, 9, 10, 12,105,137,340,245,11200,32500,57231])\n",
    "\n",
    "n = np.size(x)\n",
    "\n",
    "xMean = np.mean(x)\n",
    "yMean = np.mean(y)\n",
    "\n",
    "ssXY = np.sum(y*x) - n*(yMean)*(xMean)\n",
    "ssXX = np.sum(x*x) - n*(xMean)*(xMean)\n",
    "\n",
    "b1 = ssXY/ssXX\n",
    "b0 = yMean - b1*xMean\n",
    "\n",
    "print(b0)\n",
    "print(b1)\n",
    "\n",
    "plt.scatter(x, y, color = \"b\",marker = \"s\", s = 30)\n",
    " \n",
    "y_pred = b0 + b1*x\n",
    " \n",
    "plt.plot(x, y_pred, color = \"r\")\n",
    " \n",
    "plt.xlabel('x')\n",
    "plt.ylabel('y')\n",
    " \n",
    "plt.show()\n"
   ]
  },
  {
   "cell_type": "code",
   "execution_count": null,
   "metadata": {},
   "outputs": [],
   "source": []
  }
 ],
 "metadata": {
  "kernelspec": {
   "display_name": "Python 3",
   "language": "python",
   "name": "python3"
  },
  "language_info": {
   "codemirror_mode": {
    "name": "ipython",
    "version": 3
   },
   "file_extension": ".py",
   "mimetype": "text/x-python",
   "name": "python",
   "nbconvert_exporter": "python",
   "pygments_lexer": "ipython3",
   "version": "3.8.5"
  }
 },
 "nbformat": 4,
 "nbformat_minor": 4
}
